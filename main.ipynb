{
 "cells": [
  {
   "cell_type": "code",
   "execution_count": 1,
   "metadata": {},
   "outputs": [],
   "source": [
    "import torch.nn as nn\n",
    "import torch\n",
    "from kan import KAN, \n",
    "\n",
    "# get gpu\n",
    "device = torch.device(\"cuda:0\" if torch.cuda.is_available() else \"cpu\")\n",
    "torch.set_default_device(device)\n",
    "# first we define the MLP model\n",
    "\n",
    "class MLP(nn.Module):\n",
    "    def __init__(self, input_size, hidden_size, output_size):\n",
    "        super(MLP, self).__init__()\n",
    "        # define the layers\n",
    "        self.network = nn.Sequential(\n",
    "            nn.Linear(input_size, hidden_size),\n",
    "            nn.ReLU(),\n",
    "            nn.Linear(hidden_size, hidden_size),\n",
    "            nn.ReLU(),\n",
    "            nn.Linear(hidden_size, hidden_size),\n",
    "            nn.ReLU(),\n",
    "            nn.Linear(hidden_size, hidden_size),\n",
    "            nn.ReLU(),\n",
    "            nn.Linear(hidden_size, output_size)\n",
    "        )\n",
    "\n",
    "    def forward(self, x):\n",
    "        # define the forward pass\n",
    "        out = self.network(x)\n",
    "        return out\n",
    "    \n",
    "# KAN with 768 input dimensions, 3 layers of 256 hidden dimensions, and 10 output dimensions\n",
    "# other values are from hellokan notebook. Kinda afraid that the model is too big, as they\n",
    "# used width=[2,5,1] albeit for just modelling an equation.\n",
    "model = KAN(width=[768, 256, 256, 256, 10], grid=5, k=3, seed=0)"
   ]
  },
  {
   "cell_type": "code",
   "execution_count": 3,
   "metadata": {},
   "outputs": [
    {
     "ename": "AttributeError",
     "evalue": "'MNIST' object has no attribute 'shape'",
     "output_type": "error",
     "traceback": [
      "\u001b[1;31m---------------------------------------------------------------------------\u001b[0m",
      "\u001b[1;31mAttributeError\u001b[0m                            Traceback (most recent call last)",
      "Cell \u001b[1;32mIn[3], line 9\u001b[0m\n\u001b[0;32m      5\u001b[0m training_data \u001b[38;5;241m=\u001b[39m datasets\u001b[38;5;241m.\u001b[39mMNIST(root\u001b[38;5;241m=\u001b[39m\u001b[38;5;124m\"\u001b[39m\u001b[38;5;124mdata\u001b[39m\u001b[38;5;124m\"\u001b[39m, train\u001b[38;5;241m=\u001b[39m\u001b[38;5;28;01mTrue\u001b[39;00m, download\u001b[38;5;241m=\u001b[39m\u001b[38;5;28;01mTrue\u001b[39;00m, transform\u001b[38;5;241m=\u001b[39mtransforms\u001b[38;5;241m.\u001b[39mToTensor())\n\u001b[0;32m      7\u001b[0m test_data \u001b[38;5;241m=\u001b[39m datasets\u001b[38;5;241m.\u001b[39mMNIST(root\u001b[38;5;241m=\u001b[39m\u001b[38;5;124m\"\u001b[39m\u001b[38;5;124mdata\u001b[39m\u001b[38;5;124m\"\u001b[39m, train\u001b[38;5;241m=\u001b[39m\u001b[38;5;28;01mFalse\u001b[39;00m, download\u001b[38;5;241m=\u001b[39m\u001b[38;5;28;01mTrue\u001b[39;00m, transform\u001b[38;5;241m=\u001b[39mtransforms\u001b[38;5;241m.\u001b[39mToTensor())\n\u001b[1;32m----> 9\u001b[0m \u001b[38;5;28mprint\u001b[39m(\u001b[43mtraining_data\u001b[49m\u001b[38;5;241;43m.\u001b[39;49m\u001b[43mshape\u001b[49m, test_data\u001b[38;5;241m.\u001b[39mshape)\n",
      "\u001b[1;31mAttributeError\u001b[0m: 'MNIST' object has no attribute 'shape'"
     ]
    }
   ],
   "source": [
    "# now we grab the dataset. We will use the MNIST dataset\n",
    "\n",
    "from torchvision import transforms, datasets\n",
    "\n",
    "training_data = datasets.MNIST(root=\"data\", train=True, download=True, transform=transforms.ToTensor())\n",
    "\n",
    "test_data = datasets.MNIST(root=\"data\", train=False, download=True, transform=transforms.ToTensor())\n"
   ]
  },
  {
   "cell_type": "code",
   "execution_count": 8,
   "metadata": {},
   "outputs": [
    {
     "name": "stdout",
     "output_type": "stream",
     "text": [
      "Training data shape:  torch.Size([60000, 28, 28])\n",
      "Training labels shape:  torch.Size([60000])\n",
      "Test data shape:  torch.Size([10000, 28, 28])\n",
      "Test labels shape:  torch.Size([10000])\n",
      "Label:  tensor(8)\n"
     ]
    },
    {
     "data": {
      "image/png": "[encoded data removed]",
      "text/plain": [
       "<Figure size 640x480 with 1 Axes>"
      ]
     },
     "metadata": {},
     "output_type": "display_data"
    }
   ],
   "source": [
    "# print some dataset stats and a sample.\n",
    "import matplotlib.pyplot as plt\n",
    "import random\n",
    "\n",
    "print(\"Training data shape: \", training_data.data.shape)\n",
    "print(\"Training labels shape: \", training_data.targets.shape)\n",
    "print(\"Test data shape: \", test_data.data.shape)\n",
    "print(\"Test labels shape: \", test_data.targets.shape)\n",
    "\n",
    "# plot a sample\n",
    "data_point = random.randint(0, len(training_data.data))\n",
    "plt.imshow(training_data.data[data_point].numpy(), cmap=\"gray\")\n",
    "print(\"Label: \", training_data.targets[data_point])"
   ]
  },
  {
   "cell_type": "code",
   "execution_count": 15,
   "metadata": {},
   "outputs": [],
   "source": [
    "# normalize inputs\n",
    "training_data.data = training_data.data.view(-1, 28*28).float()/255\n",
    "test_data.data = test_data.data.view(-1, 28*28).float()/255\n",
    "dataset = {\"train_input\": training_data.data, \"train_label\": training_data.targets, \"test_input\": test_data.data, \"test_label\": test_data.targets}"
   ]
  },
  {
   "cell_type": "code",
   "execution_count": 16,
   "metadata": {},
   "outputs": [],
   "source": [
    "\"\"\"\n",
    "to train the model, we have to set a train_acc and test_acc function to evaluate the model\n",
    "\n",
    "def train_acc():\n",
    "    return torch.mean((torch.round(model(dataset['train_input'])[:,0]) == dataset['train_label'][:,0]).float())\n",
    "\n",
    "def test_acc():\n",
    "    return torch.mean((torch.round(model(dataset['test_input'])[:,0]) == dataset['test_label'][:,0]).float())\n",
    "\n",
    "^ From the hellokan notebook\n",
    "\n",
    "\"\"\"\n",
    "\n",
    "def train_acc():\n",
    "    return torch.mean((torch.round(model(dataset['train_input'])[:,0]) == dataset['train_label']).float())\n",
    "\n",
    "def test_acc():\n",
    "    return torch.mean((torch.round(model(dataset['test_input'])[:,0]) == dataset['test_label']).float())\n",
    "\n",
    "results = model.train(dataset, opt=\"LBFGS\", steps=20, metrics=(train_acc, test_acc))\n",
    "results['train_acc'][-1], results['test_acc'][-1]"
   ]
  },
  {
   "cell_type": "code",
   "execution_count": 9,
   "metadata": {},
   "outputs": [],
   "source": [
    "import torch\n",
    "torch.save(model.state_dict(), 'pytorch_mlp_mnist_25epoch.pth')\n"
   ]
  },
  {
   "cell_type": "code",
   "execution_count": 36,
   "metadata": {},
   "outputs": [
    {
     "name": "stdout",
     "output_type": "stream",
     "text": [
      "Training data shape:  torch.Size([60000, 28, 28])\n",
      "Training labels shape:  torch.Size([60000])\n",
      "Test data shape:  torch.Size([10000, 28, 28])\n",
      "Test labels shape:  torch.Size([10000])\n",
      "Label:  tensor(0)\n",
      "Prediction:  0\n"
     ]
    },
    {
     "data": {
      "image/png": "[encoded data removed]",
      "text/plain": [
       "<Figure size 640x480 with 1 Axes>"
      ]
     },
     "metadata": {},
     "output_type": "display_data"
    }
   ],
   "source": [
    "# test the model on a random sample\n",
    "print(\"Training data shape: \", training_data.data.shape)\n",
    "print(\"Training labels shape: \", training_data.targets.shape)\n",
    "print(\"Test data shape: \", test_data.data.shape)\n",
    "print(\"Test labels shape: \", test_data.targets.shape)\n",
    "\n",
    "# plot a sample\n",
    "data_point = random.randint(0, len(training_data.data))\n",
    "plt.imshow(training_data.data[data_point].numpy(), cmap=\"gray\")\n",
    "print(\"Label: \", training_data.targets[data_point])\n",
    "\n",
    "with torch.inference_mode():\n",
    "    result = model.forward(training_data.data[data_point].view(1, -1).to(device, dtype=torch.float32))\n",
    "    print(\"Prediction: \", torch.argmax(result).item())"
   ]
  }
 ],
 "metadata": {
  "kernelspec": {
   "display_name": "Python 3",
   "language": "python",
   "name": "python3"
  },
  "language_info": {
   "codemirror_mode": {
    "name": "ipython",
    "version": 3
   },
   "file_extension": ".py",
   "mimetype": "text/x-python",
   "name": "python",
   "nbconvert_exporter": "python",
   "pygments_lexer": "ipython3",
   "version": "3.11.1"
  }
 },
 "nbformat": 4,
 "nbformat_minor": 2
}
